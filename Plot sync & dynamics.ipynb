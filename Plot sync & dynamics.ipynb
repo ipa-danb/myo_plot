{
 "cells": [
  {
   "cell_type": "code",
   "execution_count": 1,
   "metadata": {
    "collapsed": true
   },
   "outputs": [],
   "source": [
    "modelName = 'network_1_100_50_9791.h5'\n",
    "#modelName = 'network_1_175_75_9848.h5'\n",
    "#modelName = 'network_1_194_178_9811.h5'\n",
    "#modelName = 'network_1_100_50_10000.h5'"
   ]
  },
  {
   "cell_type": "code",
   "execution_count": 2,
   "metadata": {},
   "outputs": [
    {
     "name": "stderr",
     "output_type": "stream",
     "text": [
      "Using TensorFlow backend.\n"
     ]
    }
   ],
   "source": [
    "import pandas as pd\n",
    "import sys, getopt\n",
    "import numpy as np\n",
    "import pprint\n",
    "import os\n",
    "import datetime\n",
    "import glob\n",
    "import pandas as pd\n",
    "import emgimporter\n",
    "import pickle\n",
    "import time\n",
    "import importlib\n",
    "\n",
    "\n",
    "from keras.layers.convolutional import Conv1D\n",
    "import keras\n",
    "from keras.models import Sequential\n",
    "from keras.layers import Dense, Dropout, Activation, Flatten, LocallyConnected2D\n",
    "from keras.layers import Conv2D, MaxPooling2D, LSTM, Conv1D, MaxPooling1D, ZeroPadding2D\n",
    "from keras.layers.normalization import BatchNormalization\n",
    "from IPython.display import SVG\n",
    "from keras.utils.vis_utils import model_to_dot\n",
    "from keras.models import load_model"
   ]
  },
  {
   "cell_type": "code",
   "execution_count": 3,
   "metadata": {},
   "outputs": [
    {
     "data": {
      "text/html": [
       "<style>.container { width:100% !important; }</style>"
      ],
      "text/plain": [
       "<IPython.core.display.HTML object>"
      ]
     },
     "metadata": {},
     "output_type": "display_data"
    }
   ],
   "source": [
    "from IPython.core.display import display, HTML\n",
    "display(HTML(\"<style>.container { width:100% !important; }</style>\"))\n"
   ]
  },
  {
   "cell_type": "code",
   "execution_count": 4,
   "metadata": {
    "collapsed": true
   },
   "outputs": [],
   "source": [
    "#modelPath = \"/home/myo/models/network_1_100_50_9791.h5\"\n",
    "modelPath = os.path.join(\"/home/myo/models\", modelName)\n",
    "GPU = False"
   ]
  },
  {
   "cell_type": "code",
   "execution_count": 5,
   "metadata": {},
   "outputs": [
    {
     "name": "stdout",
     "output_type": "stream",
     "text": [
      "loading model:  /home/myo/models/network_1_100_50_9791.h5\n",
      "----------------------------\n",
      "Model Summary:\n",
      "_________________________________________________________________\n",
      "Layer (type)                 Output Shape              Param #   \n",
      "=================================================================\n",
      "conv2d_1 (Conv2D)            (None, 1, 1, 50)          450       \n",
      "_________________________________________________________________\n",
      "activation_1 (Activation)    (None, 1, 1, 50)          0         \n",
      "_________________________________________________________________\n",
      "dropout_1 (Dropout)          (None, 1, 1, 50)          0         \n",
      "_________________________________________________________________\n",
      "flatten_1 (Flatten)          (None, 50)                0         \n",
      "_________________________________________________________________\n",
      "dense_1 (Dense)              (None, 100)               5100      \n",
      "_________________________________________________________________\n",
      "activation_2 (Activation)    (None, 100)               0         \n",
      "_________________________________________________________________\n",
      "dropout_2 (Dropout)          (None, 100)               0         \n",
      "_________________________________________________________________\n",
      "dense_2 (Dense)              (None, 2)                 202       \n",
      "=================================================================\n",
      "Total params: 5,752.0\n",
      "Trainable params: 5,752.0\n",
      "Non-trainable params: 0.0\n",
      "_________________________________________________________________\n",
      "None\n",
      "----------------------------\n",
      "\n"
     ]
    }
   ],
   "source": [
    "import numpy as np\n",
    "import keras\n",
    "from keras.models import load_model\n",
    "import os\n",
    "import sys\n",
    "import collections, itertools\n",
    "\n",
    "if not GPU:\n",
    "    os.environ[\"CUDA_DEVICE_ORDER\"] = \"PCI_BUS_ID\"   # see issue #152\n",
    "    os.environ[\"CUDA_VISIBLE_DEVICES\"] = \"\"\n",
    "\n",
    "model = load_model(modelPath)\n",
    "\n",
    "print(\"loading model: \", modelPath)\n",
    "print(\"----------------------------\\nModel Summary:\")\n",
    "print(model.summary())\n",
    "print(\"----------------------------\\n\")"
   ]
  },
  {
   "cell_type": "code",
   "execution_count": 6,
   "metadata": {
    "collapsed": true
   },
   "outputs": [],
   "source": [
    "def ewma(x, alpha):\n",
    "    '''\n",
    "    Returns the exponentially weighted moving average of x.\n",
    "\n",
    "    Parameters:\n",
    "    -----------\n",
    "    x : array-like\n",
    "    alpha : float {0 <= alpha <= 1}\n",
    "\n",
    "    Returns:\n",
    "    --------\n",
    "    ewma : numpy array\n",
    "        the exponentially weighted moving average\n",
    "    '''\n",
    "    # coerce x to an array\n",
    "    x = np.array(x)\n",
    "    n = x.size\n",
    "    # create an initial weight matrix of (1-alpha), and a matrix of powers\n",
    "    # to raise the weights by\n",
    "    w0 = np.ones(shape=(n,n)) * (1-alpha) \n",
    "    p = np.vstack([np.arange(i,i-n,-1) for i in range(n)])\n",
    "    # create the weight matrix\n",
    "    w = np.tril(w0**p,0)\n",
    "    # calculate the ewma\n",
    "    return np.dot(w, x[::np.newaxis]) / w.sum(axis=1)\n",
    "\n",
    "def predict(model,emg):\n",
    "    return np.squeeze(model.predict(np.expand_dims(np.expand_dims(np.array(emg,ndmin=2),axis=1),axis=-1)))\n",
    "\n",
    "def movAvg(vec, length=10):\n",
    "    outvec = list()\n",
    "    l = len(vec)\n",
    "    vec2 = [0 for i in range(0,length)]\n",
    "    vec2.extend(vec)\n",
    "    for i in range(0,l):\n",
    "        tmp = np.sum(vec[i-length:i])/length\n",
    "        outvec.append(tmp)\n",
    "    return outvec\n",
    "\n",
    "def getAlphaVec(alpha, length=10):\n",
    "    stuff = [alpha]\n",
    "    for i in range(1,length):\n",
    "        stuff.append(alpha*(1-alpha)**i)\n",
    "    return stuff\n",
    "\n",
    "def movExpAvg(vec,alpha=0.2, length=10):\n",
    "    outvec = list()\n",
    "    l = len(vec)\n",
    "    vec2 = [0 for i in range(0,length)]\n",
    "    vec2.extend(vec)\n",
    "    \n",
    "    alphaVec = getAlphaVec(alpha,length)\n",
    "    \n",
    "    for i in range(0,l):\n",
    "        tmp = np.dot( np.array(vec2[i:i+length])[::-1], np.array(alphaVec) )\n",
    "        outvec.append(tmp)\n",
    "    return outvec\n",
    "        \n",
    "def movP(vec):\n",
    "    outvec = list()\n",
    "    l = len(vec)\n",
    "    vec2 = [0 for i in range(0,length)]\n",
    "    vec2.extend(vec)\n",
    "    for i in range(0,l):\n",
    "        ps = 1 - np.array(vec2[i:i+length])\n",
    "        tmp = 1- np.prod(ps)\n",
    "        outvec.append(tmp)\n",
    "        \n",
    "    return outvec()"
   ]
  },
  {
   "cell_type": "code",
   "execution_count": 7,
   "metadata": {},
   "outputs": [
    {
     "name": "stdout",
     "output_type": "stream",
     "text": [
      "{'Tobias': ['/home/myo/emg_data/ipa_emg/testObj/dynamicsTobiasS1_1imu-20170908-142326', '/home/myo/emg_data/ipa_emg/testObj/dynamicsTobiasS1_1imu-20170908-142233', '/home/myo/emg_data/ipa_emg/testObj/dynamicsTobiasS1_1aux-20170908-141647', '/home/myo/emg_data/ipa_emg/testObj/dynamicsTobiasS1_1-20170908-141601', '/home/myo/emg_data/ipa_emg/testObj/dynamicsTobiasS1_1-20170908-141943', '/home/myo/emg_data/ipa_emg/testObj/dynamicsTobiasS1_1imu-20170908-141745', '/home/myo/emg_data/ipa_emg/testObj/dynamicsTobiasS1_1imu-20170908-142418', '/home/myo/emg_data/ipa_emg/testObj/dynamicsTobiasS1_1imu-20170908-142459', '/home/myo/emg_data/ipa_emg/testObj/dynamicsTobiasS1_1-20170908-142233', '/home/myo/emg_data/ipa_emg/testObj/dynamicsTobiasS1_1-20170908-142133', '/home/myo/emg_data/ipa_emg/testObj/dynamicsTobiasS1_1-20170908-141647', '/home/myo/emg_data/ipa_emg/testObj/dynamicsTobiasS1_1imu-20170908-141647', '/home/myo/emg_data/ipa_emg/testObj/dynamicsTobiasS1_1aux-20170908-142041', '/home/myo/emg_data/ipa_emg/testObj/dynamicsTobiasS1_1aux-20170908-141745', '/home/myo/emg_data/ipa_emg/testObj/dynamicsTobiasS1_1imu-20170908-142041', '/home/myo/emg_data/ipa_emg/testObj/dynamicsTobiasS1_1aux-20170908-142418', '/home/myo/emg_data/ipa_emg/testObj/dynamicsTobiasS1_1aux-20170908-142459', '/home/myo/emg_data/ipa_emg/testObj/dynamicsTobiasS1_1aux-20170908-142326', '/home/myo/emg_data/ipa_emg/testObj/dynamicsTobiasS1_1-20170908-141432', '/home/myo/emg_data/ipa_emg/testObj/dynamicsTobiasS1_1aux-20170908-141432', '/home/myo/emg_data/ipa_emg/testObj/dynamicsTobiasS1_1aux-20170908-142233', '/home/myo/emg_data/ipa_emg/testObj/dynamicsTobiasS1_1-20170908-141745', '/home/myo/emg_data/ipa_emg/testObj/dynamicsTobiasS1_1-20170908-142459', '/home/myo/emg_data/ipa_emg/testObj/dynamicsTobiasS1_1imu-20170908-142133', '/home/myo/emg_data/ipa_emg/testObj/dynamicsTobiasS1_1imu-20170908-141601', '/home/myo/emg_data/ipa_emg/testObj/dynamicsTobiasS1_1-20170908-142418', '/home/myo/emg_data/ipa_emg/testObj/dynamicsTobiasS1_1aux-20170908-141943', '/home/myo/emg_data/ipa_emg/testObj/dynamicsTobiasS1_1aux-20170908-142133', '/home/myo/emg_data/ipa_emg/testObj/dynamicsTobiasS1_1imu-20170908-141943', '/home/myo/emg_data/ipa_emg/testObj/dynamicsTobiasS1_1aux-20170908-141601', '/home/myo/emg_data/ipa_emg/testObj/dynamicsTobiasS1_1-20170908-142326', '/home/myo/emg_data/ipa_emg/testObj/dynamicsTobiasS1_1imu-20170908-141432', '/home/myo/emg_data/ipa_emg/testObj/dynamicsTobiasS1_1-20170908-142041'], 'Denis': ['/home/myo/emg_data/ipa_emg/testObj/dynamicsDenisS1_1-20170908-155748', '/home/myo/emg_data/ipa_emg/testObj/dynamicsDenisS1_1-20170908-155350', '/home/myo/emg_data/ipa_emg/testObj/dynamicsDenisS1_1imu-20170908-155526', '/home/myo/emg_data/ipa_emg/testObj/dynamicsDenisS1_1-20170908-155617', '/home/myo/emg_data/ipa_emg/testObj/dynamicsDenisS1_1aux-20170908-155554', '/home/myo/emg_data/ipa_emg/testObj/dynamicsDenisS1_1imu-20170908-155321', '/home/myo/emg_data/ipa_emg/testObj/dynamicsDenisS1_1-20170908-155321', '/home/myo/emg_data/ipa_emg/testObj/dynamicsDenisS1_1imu-20170908-155748', '/home/myo/emg_data/ipa_emg/testObj/dynamicsDenisS1_1imu-20170908-155839', '/home/myo/emg_data/ipa_emg/testObj/dynamicsDenisS1_1imu-20170908-155716', '/home/myo/emg_data/ipa_emg/testObj/dynamicsDenisS1_1-20170908-155526', '/home/myo/emg_data/ipa_emg/testObj/dynamicsDenisS1_1aux-20170908-155526', '/home/myo/emg_data/ipa_emg/testObj/dynamicsDenisS1_1aux-20170908-155321', '/home/myo/emg_data/ipa_emg/testObj/dynamicsDenisS1_1aux-20170908-155839', '/home/myo/emg_data/ipa_emg/testObj/dynamicsDenisS1_1-20170908-155554', '/home/myo/emg_data/ipa_emg/testObj/dynamicsDenisS1_1-20170908-155839', '/home/myo/emg_data/ipa_emg/testObj/dynamicsDenisS1_1imu-20170908-155350', '/home/myo/emg_data/ipa_emg/testObj/dynamicsDenisS1_1imu-20170908-155647', '/home/myo/emg_data/ipa_emg/testObj/dynamicsDenisS1_1imu-20170908-155456', '/home/myo/emg_data/ipa_emg/testObj/dynamicsDenisS1_1aux-20170908-155907', '/home/myo/emg_data/ipa_emg/testObj/dynamicsDenisS1_1-20170908-155456', '/home/myo/emg_data/ipa_emg/testObj/dynamicsDenisS1_1aux-20170908-155748', '/home/myo/emg_data/ipa_emg/testObj/dynamicsDenisS1_1-20170908-155428', '/home/myo/emg_data/ipa_emg/testObj/dynamicsDenisS1_1imu-20170908-155617', '/home/myo/emg_data/ipa_emg/testObj/dynamicsDenisS1_1aux-20170908-155647', '/home/myo/emg_data/ipa_emg/testObj/dynamicsDenisS1_1-20170908-155647', '/home/myo/emg_data/ipa_emg/testObj/dynamicsDenisS1_1-20170908-155907', '/home/myo/emg_data/ipa_emg/testObj/dynamicsDenisS1_1-20170908-155716', '/home/myo/emg_data/ipa_emg/testObj/dynamicsDenisS1_1aux-20170908-155428', '/home/myo/emg_data/ipa_emg/testObj/dynamicsDenisS1_1imu-20170908-155907', '/home/myo/emg_data/ipa_emg/testObj/dynamicsDenisS1_1imu-20170908-155428', '/home/myo/emg_data/ipa_emg/testObj/dynamicsDenisS1_1imu-20170908-155554', '/home/myo/emg_data/ipa_emg/testObj/dynamicsDenisS1_1aux-20170908-155350', '/home/myo/emg_data/ipa_emg/testObj/dynamicsDenisS1_1aux-20170908-155617', '/home/myo/emg_data/ipa_emg/testObj/dynamicsDenisS1_1aux-20170908-155716', '/home/myo/emg_data/ipa_emg/testObj/dynamicsDenisS1_1aux-20170908-155456'], 'Daniel': ['/home/myo/emg_data/ipa_emg/testObj/dynamicsS2_1imu-20170908-103842', '/home/myo/emg_data/ipa_emg/testObj/dynamicsS2_1-20170908-092332', '/home/myo/emg_data/ipa_emg/testObj/dynamicsS2_1aux-20170908-103742', '/home/myo/emg_data/ipa_emg/testObj/dynamicsS2_1aux-20170908-104011', '/home/myo/emg_data/ipa_emg/testObj/dynamicsS2_1-20170908-104040', '/home/myo/emg_data/ipa_emg/testObj/dynamicsS2_1aux-20170908-084539', '/home/myo/emg_data/ipa_emg/testObj/dynamicsS2_1imu-20170908-084922', '/home/myo/emg_data/ipa_emg/testObj/dynamicsS2_1-20170908-103742', '/home/myo/emg_data/ipa_emg/testObj/dynamicsS2_1-20170908-084539', '/home/myo/emg_data/ipa_emg/testObj/dynamicsS2_1imu-20170908-084617', '/home/myo/emg_data/ipa_emg/testObj/dynamicsS2_1aux-20170908-092406', '/home/myo/emg_data/ipa_emg/testObj/dynamicsS2_1-20170908-092258', '/home/myo/emg_data/ipa_emg/testObj/dynamicsS2_1aux-20170908-104040', '/home/myo/emg_data/ipa_emg/testObj/dynamicsS2_1-20170908-091604', '/home/myo/emg_data/ipa_emg/testObj/dynamicsS2_1aux-20170908-084922', '/home/myo/emg_data/ipa_emg/testObj/dynamicsS2_1imu-20170908-104011', '/home/myo/emg_data/ipa_emg/testObj/dynamicsS2_1-20170908-092406', '/home/myo/emg_data/ipa_emg/testObj/dynamicsS2_1-20170908-104103', '/home/myo/emg_data/ipa_emg/testObj/dynamicsS2_1imu-20170908-091604', '/home/myo/emg_data/ipa_emg/testObj/dynamicsS2_1aux-20170908-092258', '/home/myo/emg_data/ipa_emg/testObj/dynamicsS2_1imu-20170908-092223', '/home/myo/emg_data/ipa_emg/testObj/dynamicsS2_1-20170908-103814', '/home/myo/emg_data/ipa_emg/testObj/dynamicsS2_1-20170908-084617', '/home/myo/emg_data/ipa_emg/testObj/dynamicsS2_1imu-20170908-104103', '/home/myo/emg_data/ipa_emg/testObj/dynamicsS2_1-20170908-092513', '/home/myo/emg_data/ipa_emg/testObj/dynamicsS2_1aux-20170908-092332', '/home/myo/emg_data/ipa_emg/testObj/dynamicsS2_1-20170908-084922', '/home/myo/emg_data/ipa_emg/testObj/dynamicsS2_1imu-20170908-104040', '/home/myo/emg_data/ipa_emg/testObj/dynamicsS2_1aux-20170908-103842', '/home/myo/emg_data/ipa_emg/testObj/dynamicsS2_1imu-20170908-103814', '/home/myo/emg_data/ipa_emg/testObj/dynamicsS2_1-20170908-092223', '/home/myo/emg_data/ipa_emg/testObj/dynamicsS2_1imu-20170908-092443', '/home/myo/emg_data/ipa_emg/testObj/dynamicsS2_1-20170908-092443', '/home/myo/emg_data/ipa_emg/testObj/dynamicsS2_1aux-20170908-092443', '/home/myo/emg_data/ipa_emg/testObj/dynamicsS2_1aux-20170908-084617', '/home/myo/emg_data/ipa_emg/testObj/dynamicsS2_1aux-20170908-091604', '/home/myo/emg_data/ipa_emg/testObj/dynamicsS2_1imu-20170908-103742', '/home/myo/emg_data/ipa_emg/testObj/dynamicsS2_1-20170908-103842', '/home/myo/emg_data/ipa_emg/testObj/dynamicsS2_1-20170908-104011', '/home/myo/emg_data/ipa_emg/testObj/dynamicsS2_1aux-20170908-092513', '/home/myo/emg_data/ipa_emg/testObj/dynamicsS2_1aux-20170908-104103', '/home/myo/emg_data/ipa_emg/testObj/dynamicsS2_1aux-20170908-092223', '/home/myo/emg_data/ipa_emg/testObj/dynamicsS2_1imu-20170908-092513', '/home/myo/emg_data/ipa_emg/testObj/dynamicsS2_1imu-20170908-092406', '/home/myo/emg_data/ipa_emg/testObj/dynamicsS2_1aux-20170908-103814', '/home/myo/emg_data/ipa_emg/testObj/dynamicsS2_1imu-20170908-084539', '/home/myo/emg_data/ipa_emg/testObj/dynamicsS2_1imu-20170908-092332', '/home/myo/emg_data/ipa_emg/testObj/dynamicsS2_1imu-20170908-092258']}\n"
     ]
    }
   ],
   "source": [
    "dataPathDict = dict()\n",
    "dataPathDict[\"Tobias\"] = glob.glob('/home/myo/emg_data/ipa_emg/testObj/dynamicsTobiasS1_1*')\n",
    "dataPathDict[\"Denis\"]  = glob.glob('/home/myo/emg_data/ipa_emg/testObj/dynamicsDenisS1_*')\n",
    "dataPathDict[\"Daniel\"] = glob.glob('/home/myo/emg_data/ipa_emg/testObj/dynamicsS2_*')\n",
    "\n",
    "print(dataPathDict)\n",
    "for dat in dataPathDict:\n",
    "    tstampList = list(set([k.split('-',1)[-1] for k in dat]))\n",
    "    tstampList.sort()"
   ]
  },
  {
   "cell_type": "code",
   "execution_count": null,
   "metadata": {
    "collapsed": true
   },
   "outputs": [],
   "source": [
    "from bokeh.plotting import figure, show\n",
    "from bokeh.io import output_notebook\n",
    "from bokeh.layouts import column, row\n",
    "from bokeh.palettes import Spectral11, Category20, Set1, Reds\n",
    "from bokeh.models import Range1d\n",
    "from bokeh.models import LinearAxis, Range1d\n",
    "from bokeh.charts import TimeSeries, output_notebook, output_file, reset_output\n",
    "\n",
    "for dataPathKey in dataPathDict:\n",
    "    dataPathList = dataPathDict[dataPathKey]\n",
    "    reset_output()\n",
    "    outputName = str(dataPathKey) + \"_plot.html\"\n",
    "    output_file(outputName, title=\"Plotting all Experiments\")\n",
    "\n",
    "    plotlist = list()\n",
    "    alphaList = [0.2]\n",
    "    palette = Reds[9]\n",
    "\n",
    "    tstampList = list(set([k.split('-',1)[-1] for k in dataPathList]))\n",
    "    tstampList.sort()\n",
    "    for tstamp in tstampList:\n",
    "\n",
    "        krappl = dict()\n",
    "        for fName in dataPathList:\n",
    "            if tstamp in fName:\n",
    "                if 'imu' in fName:\n",
    "                    krappl['imu'] = fName\n",
    "                elif 'aux' in fName:\n",
    "                    krappl['aux'] = fName\n",
    "                else:\n",
    "                    krappl['norm'] = fName\n",
    "\n",
    "        data = list()\n",
    "        data.append( pd.read_csv(krappl['aux'],sep='\\t') )\n",
    "        data.append( pd.read_csv(krappl['norm'],sep='\\t'))\n",
    "\n",
    "        kk = list()\n",
    "        for i,r in data[1].iterrows():\n",
    "            tmp = 0\n",
    "            tmp += predict(model,np.array(r[1:]))[1]\n",
    "            kk.append(tmp)\n",
    "\n",
    "        data[0][\"t\"]\n",
    "\n",
    "        comVolt = data[0][\"V0\"] + data[0][\"V1\"] + data[0][\"V2\"]\n",
    "        comVolt_norm = (comVolt - comVolt.min())/(comVolt.max()-comVolt.min())\n",
    "        comEMG = data[1][\"EMG0\"]\n",
    "        for i in range(1,8):\n",
    "            name = \"EMG\" + str(i)\n",
    "            comEMG  += data[1][name]\n",
    "\n",
    "        comEMG_norm = (comEMG - comEMG.min())/(comEMG.max() - comEMG.min())\n",
    "\n",
    "        p = figure(x_axis_type=\"datetime\",plot_width=1600,plot_height=600,x_axis_label=\"Time\", y_axis_label = \"Normed Combined Voltage\",title='') # str(datetime.datetime.strptime(tstamp,'%Y%m%d-%H%M%S'))\n",
    "        \n",
    "        p.y_range=Range1d(0,1)\n",
    "\n",
    "        t_offset = min(data[0][\"t\"].min(),data[1][\"t\"].min())\n",
    "\n",
    "        p.line(x = [datetime.datetime.fromtimestamp(ts)-datetime.datetime.fromtimestamp(t_offset) for ts in data[0][\"t\"]],y = comVolt_norm,line_width=3, legend=\"Combined Voltage\")\n",
    "        p.line(x = [datetime.datetime.fromtimestamp(ts)-datetime.datetime.fromtimestamp(t_offset) for ts in data[1][\"t\"]],y = comEMG_norm,color='green', legend=\"Combined EMG Activation\")\n",
    "        for i,alpha in enumerate(alphaList):\n",
    "            p.line(x = [datetime.datetime.fromtimestamp(ts)-datetime.datetime.fromtimestamp(t_offset) for ts in data[1][\"t\"]],\n",
    "                   y = [ ((int(i>0.6)+int(i>0.4))*0.5)*0.8 + 0.1 for i in movExpAvg(kk,alpha,100)],color=palette[i],line_width=5-i, legend=\"Filtered grip probability with alpha \" + str(alpha))\n",
    "            \n",
    "         # Formating stuff\n",
    "        p.xaxis.axis_label_text_font_size = \"25pt\"\n",
    "        p.xaxis.axis_label_text_font = 'helvetica'\n",
    "\n",
    "        p.yaxis.axis_label_text_font_size = \"25pt\"\n",
    "        p.yaxis.axis_label_text_font = 'helvetica'\n",
    "        \n",
    "        p.yaxis.major_label_text_font_size = \"19pt\"\n",
    "        p.yaxis.major_label_text_font = 'helvetica'\n",
    "\n",
    "        p.xaxis.major_label_text_font_size = \"19pt\"\n",
    "        p.xaxis.major_label_text_font = 'helvetica'\n",
    "        \n",
    "        p.legend.label_text_font_size = \"19pt\"\n",
    "        p.legend.label_text_font = 'helvetica'\n",
    "        \n",
    "        p.legend.location = \"top_left\"\n",
    "        \n",
    "        # End Formatingn stuff\n",
    "\n",
    "        plotlist.append(p)\n",
    "        print('plotted ' +str(datetime.datetime.strptime(tstamp,'%Y%m%d-%H%M%S')))\n",
    "\n",
    "    show(column(plotlist))\n",
    "    print('done with ' + outputName)"
   ]
  },
  {
   "cell_type": "code",
   "execution_count": 19,
   "metadata": {
    "collapsed": true
   },
   "outputs": [],
   "source": [
    "def norm(l):\n",
    "    l =  np.abs((l - np.mean(l)))\n",
    "    return (l/(l.max() - l.min()))"
   ]
  },
  {
   "cell_type": "code",
   "execution_count": 20,
   "metadata": {
    "collapsed": true
   },
   "outputs": [],
   "source": [
    "dataPathList2 = glob.glob('/home/myo/emg_data/ipa_emg/testObj/Sync8_8*')"
   ]
  },
  {
   "cell_type": "code",
   "execution_count": 21,
   "metadata": {},
   "outputs": [
    {
     "data": {
      "text/plain": [
       "['/home/myo/emg_data/ipa_emg/testObj/Sync8_8imu-20170905-133114',\n",
       " '/home/myo/emg_data/ipa_emg/testObj/Sync8_8-20170905-133114',\n",
       " '/home/myo/emg_data/ipa_emg/testObj/Sync8_8aux-20170905-133114']"
      ]
     },
     "execution_count": 21,
     "metadata": {},
     "output_type": "execute_result"
    }
   ],
   "source": [
    "dataPathList2"
   ]
  },
  {
   "cell_type": "code",
   "execution_count": 22,
   "metadata": {
    "collapsed": true
   },
   "outputs": [],
   "source": [
    "data2 = list()\n",
    "for fName in dataPathList2:\n",
    "    data2.append( pd.read_csv(fName,sep='\\t') )"
   ]
  },
  {
   "cell_type": "code",
   "execution_count": 23,
   "metadata": {},
   "outputs": [
    {
     "data": {
      "text/plain": [
       "['t',\n",
       " 'QX_IMU',\n",
       " 'QY_IMU',\n",
       " 'QZ_IMU',\n",
       " 'QW_IMU',\n",
       " 'ACCX',\n",
       " 'ACCY',\n",
       " 'ACCZ',\n",
       " 'GX',\n",
       " 'GY',\n",
       " 'GZ']"
      ]
     },
     "execution_count": 23,
     "metadata": {},
     "output_type": "execute_result"
    }
   ],
   "source": [
    "list(data2[0])"
   ]
  },
  {
   "cell_type": "code",
   "execution_count": 24,
   "metadata": {},
   "outputs": [
    {
     "name": "stderr",
     "output_type": "stream",
     "text": [
      "/home/myo/anaconda3/envs/tensorflow/lib/python3.6/site-packages/ipykernel_launcher.py:11: FutureWarning: pd.rolling_mean is deprecated for Series and will be removed in a future version, replace with \n",
      "\tSeries.rolling(window=5,center=False).mean()\n",
      "  # This is added back by InteractiveShellApp.init_path()\n",
      "/home/myo/anaconda3/envs/tensorflow/lib/python3.6/site-packages/ipykernel_launcher.py:6: FutureWarning: pd.rolling_mean is deprecated for Series and will be removed in a future version, replace with \n",
      "\tSeries.rolling(window=100,center=False).mean()\n",
      "  \n"
     ]
    }
   ],
   "source": [
    "for i in data2:\n",
    "    if \"ACCX_EXT\" in list(i):\n",
    "        t_ext = i[\"t\"]\n",
    "        accx_ext = norm(i[\"ACCX_EXT\"])\n",
    "        accy_ext = norm(i[\"ACCY_EXT\"])\n",
    "        accz_ext = pd.rolling_mean(norm(i[\"ACCZ_EXT\"]),20*5)\n",
    "    elif \"ACCX\" in list(i):\n",
    "        t = i[\"t\"]\n",
    "        accx = norm(i[\"ACCX\"])\n",
    "        accy = norm(i[\"ACCY\"])\n",
    "        accz = pd.rolling_mean(norm(i[\"ACCZ\"]),5)\n"
   ]
  },
  {
   "cell_type": "code",
   "execution_count": 25,
   "metadata": {
    "scrolled": true
   },
   "outputs": [
    {
     "name": "stdout",
     "output_type": "stream",
     "text": [
      "2345 2345\n"
     ]
    }
   ],
   "source": [
    "print(len(accy), len(accz))"
   ]
  },
  {
   "cell_type": "code",
   "execution_count": 58,
   "metadata": {
    "scrolled": true
   },
   "outputs": [
    {
     "name": "stdout",
     "output_type": "stream",
     "text": [
      "13\n",
      "13\n",
      "done\n"
     ]
    }
   ],
   "source": [
    "from scipy import signal\n",
    "reset_output()\n",
    "output_file(\"lines.html\", title=\"line plot example\")\n",
    "palette = Category20[12]\n",
    "paletteX = palette[0:3]\n",
    "paletteY = palette[4:7]\n",
    "paletteZ = palette[8:11]\n",
    "t_offset = min(t.min(),t_ext.min())\n",
    "\n",
    "\n",
    "p2 = figure(x_axis_type=\"datetime\",plot_width=1600,plot_height=800,x_axis_label=\"Time [s]\", y_axis_label = \"Acceleration in Z direction [g]\")\n",
    "#p2.line(x = [datetime.datetime.fromtimestamp(ts) for ts in t],y = accx,line_width=3, color=palette[1], legend=\"X\")\n",
    "#p2.line(x = [datetime.datetime.fromtimestamp(ts) for ts in t],y = accy,line_width=3, color=palette[3], legend=\"Y\")\n",
    "p2.line(x = [datetime.datetime.fromtimestamp(ts)-datetime.datetime.fromtimestamp(t_offset) for ts in t],y = accz,line_width=5, color=palette[5], legend=\"Bracelet Sensor\")\n",
    "\n",
    "#p2.line(x = [datetime.datetime.fromtimestamp(ts) for ts in t_ext],y = accx_ext,line_width=3,color=palette[7], legend=\"X_EXT\")\n",
    "#p2.line(x = [datetime.datetime.fromtimestamp(ts) for ts in t_ext],y = accy_ext,line_width=3,color=palette[9], legend=\"Y_EXT\")\n",
    "p2.line(x = [datetime.datetime.fromtimestamp(ts)-datetime.datetime.fromtimestamp(t_offset) for ts in t_ext],y = accz_ext,line_width=2,color=palette[11], legend=\"External Sensor\")\n",
    "\n",
    "show(p2)\n",
    "\n",
    "from detect_peaks import detect_peaks\n",
    "import peakdetect\n",
    "\n",
    "extMpd = 10\n",
    "extMph = None\n",
    "extThr = 0.0001\n",
    "\n",
    "Mpd = 10\n",
    "Mph = None\n",
    "Thr = 0.001\n",
    "\n",
    "#x_ext = detect_peaks(accx_ext,show=False, mpd=extMpd, mph=extMph, threshold=extThr, valley=False) # \n",
    "#y_ext = detect_peaks(accy_ext,show=False, mpd=extMpd, mph=extMph, threshold=extThr, valley=False) #\n",
    "#z_ext1 = detect_peaks(accz_ext,show=False, mpd=extMpd, mph=extMph, threshold=extThr, valley=False) #\n",
    "t1,t2 = peakdetect.peakdetect(accz_ext,lookahead=50*20,delta=0.1)\n",
    "#t1,t2 = peakdetect.peakdetect(accz_ext,t_ext)\n",
    "z_ext2_maximum = [t[0] for t in t1]\n",
    "z_ext2_minimum = [t[0] for t in t2]\n",
    "t1.extend(t2)\n",
    "z_ext2 = [t[0] for t in t1 ]\n",
    "\n",
    "print(len(z_ext2))\n",
    "#x     = detect_peaks(accx    ,show=False, mpd=Mpd, mph=Mph, threshold=Thr, valley=False) # \n",
    "#y     = detect_peaks(accy    ,show=False, mpd=Mpd, mph=Mph, threshold=Thr, valley=False) # \n",
    "#z1     = detect_peaks(accz    ,show=False, mpd=Mpd, mph=Mph, threshold=Thr, valley=False) #\n",
    "t1,t2  = peakdetect.peakdetect(accz,lookahead=50,delta=0.1)\n",
    "#t1,t2 = peakdetect.peakdetect(accz,t)\n",
    "z2_maximum = [t[0] for t in t1]\n",
    "z2_minimum = [t[0] for t in t2]\n",
    "t1.extend(t2)\n",
    "z2 = [t[0] for t in t1 ]\n",
    "\n",
    "\n",
    "print(len(z2))\n",
    "\n",
    "s = 15\n",
    "#p2.circle(x = [datetime.datetime.fromtimestamp(ts) for ts in t_ext[x_ext] ], y = [k for k in accx_ext[x_ext]],color=palette[6])\n",
    "#p2.square(x = [datetime.datetime.fromtimestamp(ts) for ts in t_ext[z_ext2_minimum] ], y = [k for k in accz_ext[z_ext2_minimum]],color=palette[8], legend=\"Z_Ext Minimum\", size=s)\n",
    "p2.cross(x = [datetime.datetime.fromtimestamp(ts)-datetime.datetime.fromtimestamp(t_offset) for ts in t_ext[z_ext2_maximum] ], y = [k for k in accz_ext[z_ext2_maximum]],color=palette[10], legend= \"External Sensor Maximum\", size=s, line_width= 5)\n",
    "#p2.circle(x = [datetime.datetime.fromtimestamp(ts) for ts in t_ext[z_ext1] ], y = [k for k in accz_ext[z_ext1]],color=palette[10])\n",
    "\n",
    "#p2.circle(x = [datetime.datetime.fromtimestamp(ts) for ts in t[x] ], y = [k for k in accx[x]], color=palette[0] )\n",
    "#p2.circle(x = [datetime.datetime.fromtimestamp(ts) for ts in t[z2_minimum] ], y = [k for k in accz[z2_minimum]], color=palette[2] ,legend=\"Z Minimum\",size=s)\n",
    "p2.triangle(x = [datetime.datetime.fromtimestamp(ts)-datetime.datetime.fromtimestamp(t_offset) for ts in t[z2_maximum] ], y = [k for k in accz[z2_maximum]], color=palette[4], legend=\"Bracelet Maximum\",size=s )\n",
    "#p2.circle(x = [datetime.datetime.fromtimestamp(ts) for ts in t[z1] ], y = [k for k in accz[z1]], color=palette[4] )\n",
    "\n",
    "\n",
    "p2.xaxis.axis_label_text_font_size = \"25pt\"\n",
    "p2.xaxis.axis_label_text_font = 'helvetica'\n",
    "\n",
    "\n",
    "p2.yaxis.axis_label_text_font_size = \"25pt\"\n",
    "p2.yaxis.axis_label_text_font = 'helvetica'\n",
    "\n",
    "\n",
    "p2.yaxis.major_label_text_font_size = \"19pt\"\n",
    "p2.yaxis.major_label_text_font = 'helvetica'\n",
    "\n",
    "\n",
    "p2.xaxis.major_label_text_font_size = \"19pt\"\n",
    "p2.xaxis.major_label_text_font = 'helvetica'\n",
    "\n",
    "\n",
    "p2.title.text_font_size = '13pt'\n",
    "p2.title.text_font = 'helvetica'\n",
    "\n",
    "p2.legend.label_text_font_size= \"19pt\"\n",
    "p2.legend.label_text_font = 'helvetica'\n",
    "p2.legend.location = \"top_left\"\n",
    "\n",
    "show(p2)\n",
    "print(\"done\")"
   ]
  },
  {
   "cell_type": "code",
   "execution_count": 59,
   "metadata": {
    "collapsed": true
   },
   "outputs": [],
   "source": [
    "exts = [z_ext2_maximum, z_ext2_minimum]\n",
    "normal = [z2_maximum, z2_minimum]"
   ]
  },
  {
   "cell_type": "code",
   "execution_count": 60,
   "metadata": {
    "collapsed": true
   },
   "outputs": [],
   "source": [
    "def list_matching(list1, list2):\n",
    "    list1_copy = list1[:]\n",
    "    pairs = []\n",
    "    for i, e in enumerate(list2):\n",
    "        elem = find_closest(list1_copy, e)\n",
    "        pairs.append([i, list1.index(elem)])\n",
    "        list1_copy.remove(elem)\n",
    "    return pairs\n",
    "\n",
    "def find_closest(alist, target):\n",
    "    return min(alist, key=lambda x:abs(x-target))"
   ]
  },
  {
   "cell_type": "code",
   "execution_count": 61,
   "metadata": {},
   "outputs": [
    {
     "name": "stdout",
     "output_type": "stream",
     "text": [
      "[0.0024789460787246753, 37.961282841423667, 0]\n",
      "[7, 6, 0]\n",
      "0.000413157679787\n"
     ]
    }
   ],
   "source": [
    "blub = [0,0,0]\n",
    "blublen = [0,0,0]\n",
    "\n",
    "for number, stuff in enumerate(exts):\n",
    "    times_armband = list(t[normal[number]])\n",
    "    times_extern = list(t_ext[exts[number]])\n",
    "\n",
    "    if len(times_armband) > len(times_extern):\n",
    "        pairs = list_matching(times_armband,times_extern)\n",
    "        indexes = [1,0]\n",
    "    else:\n",
    "        pairs = list_matching(times_extern,times_armband)\n",
    "        indexes = [0,1]\n",
    "\n",
    "    \n",
    "    for i in pairs:\n",
    "        blub[number] += (times_armband[i[indexes[0]]] - times_extern[i[indexes[1]]])**2\n",
    "    blublen[number] += len(pairs)\n",
    "\n",
    "\n",
    "print(blub)\n",
    "print(blublen)\n",
    "total_delay = (blub[0])/(blublen[0] -1)\n",
    "print(total_delay)"
   ]
  },
  {
   "cell_type": "code",
   "execution_count": 62,
   "metadata": {},
   "outputs": [
    {
     "data": {
      "text/plain": [
       "0.413"
      ]
     },
     "execution_count": 62,
     "metadata": {},
     "output_type": "execute_result"
    }
   ],
   "source": [
    "datetime.timedelta(seconds=total_delay).microseconds/1000"
   ]
  }
 ],
 "metadata": {
  "kernelspec": {
   "display_name": "Python 3",
   "language": "python",
   "name": "python3"
  },
  "language_info": {
   "codemirror_mode": {
    "name": "ipython",
    "version": 3
   },
   "file_extension": ".py",
   "mimetype": "text/x-python",
   "name": "python",
   "nbconvert_exporter": "python",
   "pygments_lexer": "ipython3",
   "version": "3.6.1"
  }
 },
 "nbformat": 4,
 "nbformat_minor": 2
}
